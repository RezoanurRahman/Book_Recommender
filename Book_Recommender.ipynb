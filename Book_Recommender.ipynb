{
  "nbformat": 4,
  "nbformat_minor": 0,
  "metadata": {
    "colab": {
      "name": "Book Recommender.ipynb",
      "provenance": [],
      "collapsed_sections": [],
      "authorship_tag": "ABX9TyMjZ0SaB0BARXxLtFHzN/el",
      "include_colab_link": true
    },
    "kernelspec": {
      "name": "python3",
      "display_name": "Python 3"
    }
  },
  "cells": [
    {
      "cell_type": "markdown",
      "metadata": {
        "id": "view-in-github",
        "colab_type": "text"
      },
      "source": [
        "<a href=\"https://colab.research.google.com/github/RezoanurRahman/Book_Recommender/blob/master/Book_Recommender.ipynb\" target=\"_parent\"><img src=\"https://colab.research.google.com/assets/colab-badge.svg\" alt=\"Open In Colab\"/></a>"
      ]
    },
    {
      "cell_type": "code",
      "metadata": {
        "id": "jfrir9F6DHP9",
        "colab_type": "code",
        "colab": {}
      },
      "source": [
        "import numpy as np\n",
        "import pandas as pd\n",
        "import matplotlib.pyplot as plt\n",
        "import os\n",
        "import warnings\n",
        "\n",
        "warnings.filterwarnings('ignore')\n",
        "%matplotlib inline\n",
        "\n",
        "import tensorflow.keras as tf\n",
        "\n"
      ],
      "execution_count": null,
      "outputs": []
    },
    {
      "cell_type": "code",
      "metadata": {
        "id": "F2kIRwm8D-Oh",
        "colab_type": "code",
        "colab": {}
      },
      "source": [
        "book_db = pd.read_csv('books.csv')\n",
        "rating_db = pd.read_csv('ratings.csv')\n",
        "\n",
        "rating_db.head()\n",
        "book_db.head()"
      ],
      "execution_count": null,
      "outputs": []
    },
    {
      "cell_type": "code",
      "metadata": {
        "id": "WcGzOjBiET-X",
        "colab_type": "code",
        "colab": {}
      },
      "source": [
        "from sklearn.model_selection import train_test_split\n",
        "\n",
        "Xtrain, Xtest= train_test_split(rating_db, test_size= 0.2, random_state=1)\n"
      ],
      "execution_count": null,
      "outputs": []
    },
    {
      "cell_type": "code",
      "metadata": {
        "id": "YcYAZUAPG91w",
        "colab_type": "code",
        "colab": {}
      },
      "source": [
        "nbook_id = rating_db.book_id.nunique()\n",
        "nuser_id = rating_db.user_id.nunique()\n"
      ],
      "execution_count": null,
      "outputs": []
    },
    {
      "cell_type": "code",
      "metadata": {
        "id": "qNZ_tfdJJL2o",
        "colab_type": "code",
        "colab": {
          "base_uri": "https://localhost:8080/",
          "height": 34
        },
        "outputId": "d787e229-ac69-4f01-ea4d-c3e18b52bf73"
      },
      "source": [
        "input_books= tf.layers.Input(shape= 1)\n",
        "input_embedbooks = tf.layers.Embedding(nbook_id+1, 15)(input_books)\n",
        "output_books = tf.layers.Flatten()(input_embedbooks)\n",
        "output_books.shape"
      ],
      "execution_count": null,
      "outputs": [
        {
          "output_type": "execute_result",
          "data": {
            "text/plain": [
              "TensorShape([None, 15])"
            ]
          },
          "metadata": {
            "tags": []
          },
          "execution_count": 15
        }
      ]
    },
    {
      "cell_type": "code",
      "metadata": {
        "id": "6bbzuGnLL8Dw",
        "colab_type": "code",
        "colab": {
          "base_uri": "https://localhost:8080/",
          "height": 34
        },
        "outputId": "05d23b2e-4fb9-4da1-dcf6-5147e00ca38d"
      },
      "source": [
        "input_users= tf.layers.Input(shape= 1)\n",
        "input_embedusers = tf.layers.Embedding(nuser_id+1, 15)(input_users)\n",
        "output_users = tf.layers.Flatten()(input_embedusers)\n",
        "output_users.shape"
      ],
      "execution_count": null,
      "outputs": [
        {
          "output_type": "execute_result",
          "data": {
            "text/plain": [
              "TensorShape([None, 15])"
            ]
          },
          "metadata": {
            "tags": []
          },
          "execution_count": 16
        }
      ]
    },
    {
      "cell_type": "code",
      "metadata": {
        "id": "zfo8rOf8MW4e",
        "colab_type": "code",
        "colab": {
          "base_uri": "https://localhost:8080/",
          "height": 646
        },
        "outputId": "cc0cd079-63b0-4206-d1db-dae407e8208f"
      },
      "source": [
        "mainembeddlayer = tf.layers.Concatenate()([output_users, output_books])\n",
        "seconddenselayer= tf.layers.Dense(128,activation= 'relu')(mainembeddlayer)\n",
        "finaldenselayer = tf.layers.Dense(1,activation='relu')(seconddenselayer)\n",
        "\n",
        "model = tf.Model([input_users, input_books], finaldenselayer)\n",
        "\n",
        "opt = tf.optimizers.Adam(learning_rate=0.001)\n",
        "model.compile(optimizer=opt, loss='mean_squared_error')\n",
        "model.summary()\n",
        "\n",
        "\n",
        "fitedmodel = model.fit([Xtrain.user_id,Xtrain.book_id], Xtrain.rating, \n",
        "                 batch_size=64, \n",
        "                 epochs=5, \n",
        "                 verbose=1,\n",
        "                 validation_data=([Xtest.user_id, Xtest.book_id], Xtest.rating))"
      ],
      "execution_count": null,
      "outputs": [
        {
          "output_type": "stream",
          "text": [
            "Model: \"functional_3\"\n",
            "__________________________________________________________________________________________________\n",
            "Layer (type)                    Output Shape         Param #     Connected to                     \n",
            "==================================================================================================\n",
            "input_3 (InputLayer)            [(None, 1)]          0                                            \n",
            "__________________________________________________________________________________________________\n",
            "input_2 (InputLayer)            [(None, 1)]          0                                            \n",
            "__________________________________________________________________________________________________\n",
            "embedding_2 (Embedding)         (None, 1, 15)        801375      input_3[0][0]                    \n",
            "__________________________________________________________________________________________________\n",
            "embedding_1 (Embedding)         (None, 1, 15)        150015      input_2[0][0]                    \n",
            "__________________________________________________________________________________________________\n",
            "flatten_2 (Flatten)             (None, 15)           0           embedding_2[0][0]                \n",
            "__________________________________________________________________________________________________\n",
            "flatten_1 (Flatten)             (None, 15)           0           embedding_1[0][0]                \n",
            "__________________________________________________________________________________________________\n",
            "concatenate_1 (Concatenate)     (None, 30)           0           flatten_2[0][0]                  \n",
            "                                                                 flatten_1[0][0]                  \n",
            "__________________________________________________________________________________________________\n",
            "dense_2 (Dense)                 (None, 128)          3968        concatenate_1[0][0]              \n",
            "__________________________________________________________________________________________________\n",
            "dense_3 (Dense)                 (None, 1)            129         dense_2[0][0]                    \n",
            "==================================================================================================\n",
            "Total params: 955,487\n",
            "Trainable params: 955,487\n",
            "Non-trainable params: 0\n",
            "__________________________________________________________________________________________________\n",
            "Epoch 1/5\n",
            "12272/12272 [==============================] - 168s 14ms/step - loss: 0.6331 - val_loss: 0.7215\n",
            "Epoch 2/5\n",
            "12272/12272 [==============================] - 163s 13ms/step - loss: 0.5315 - val_loss: 0.7286\n",
            "Epoch 3/5\n",
            "12272/12272 [==============================] - 163s 13ms/step - loss: 0.4931 - val_loss: 0.7507\n",
            "Epoch 4/5\n",
            "12272/12272 [==============================] - 163s 13ms/step - loss: 0.4563 - val_loss: 0.7670\n",
            "Epoch 5/5\n",
            "12272/12272 [==============================] - 166s 14ms/step - loss: 0.4235 - val_loss: 0.7944\n"
          ],
          "name": "stdout"
        }
      ]
    },
    {
      "cell_type": "code",
      "metadata": {
        "id": "TW9oytwqVQAE",
        "colab_type": "code",
        "colab": {
          "base_uri": "https://localhost:8080/",
          "height": 281
        },
        "outputId": "3da453b9-573b-4ba6-a14e-92c4ba023300"
      },
      "source": [
        "train_loss = fitedmodel.history['loss']\n",
        "val_loss = fitedmodel.history['val_loss']\n",
        "plt.plot(train_loss, color='r', label='Train Loss')\n",
        "plt.plot(val_loss, color='b', label='Validation Loss')\n",
        "plt.title(\"Train and Validation Loss Curve\")\n",
        "plt.legend()\n",
        "plt.show()"
      ],
      "execution_count": null,
      "outputs": [
        {
          "output_type": "display_data",
          "data": {
            "image/png": "[encoded data removed]",
            "text/plain": [
              "<Figure size 432x288 with 1 Axes>"
            ]
          },
          "metadata": {
            "tags": [],
            "needs_background": "light"
          }
        }
      ]
    },
    {
      "cell_type": "code",
      "metadata": {
        "id": "Io-xIJETVatJ",
        "colab_type": "code",
        "colab": {}
      },
      "source": [
        "#save the model\n",
        "model.save('model')"
      ],
      "execution_count": null,
      "outputs": []
    },
    {
      "cell_type": "code",
      "metadata": {
        "id": "crywxEZVMTw_",
        "colab_type": "code",
        "colab": {
          "base_uri": "https://localhost:8080/",
          "height": 34
        },
        "outputId": "5adafa1c-fbfc-443d-9cc1-1b3e3b299d3c"
      },
      "source": [
        "book_em = model.get_layer('embedding_1')\n",
        "book_em_weights = book_em.get_weights()[0]\n",
        "book_em_weights.shape"
      ],
      "execution_count": null,
      "outputs": [
        {
          "output_type": "execute_result",
          "data": {
            "text/plain": [
              "(10001, 15)"
            ]
          },
          "metadata": {
            "tags": []
          },
          "execution_count": 24
        }
      ]
    },
    {
      "cell_type": "code",
      "metadata": {
        "id": "brLPdIg-j21d",
        "colab_type": "code",
        "colab": {}
      },
      "source": [
        "books_df_copy = book_db.copy()\n",
        "books_df_copy = books_df_copy.set_index(\"book_id\")\n",
        "\n",
        "b_id =list(rating_db.book_id.unique())\n",
        "b_id.remove(10000)\n",
        "dict_map = {}\n",
        "for i in b_id:\n",
        "    dict_map[i] = books_df_copy.iloc[i]['title']\n",
        "    \n",
        "out_v = open('vecs.tsv', 'w')\n",
        "out_m = open('meta.tsv', 'w')\n",
        "for i in b_id:\n",
        "    book = dict_map[i]\n",
        "    embeddings = book_em_weights[i]\n",
        "    out_m.write(book + \"\\n\")\n",
        "    out_v.write('\\t'.join([str(x) for x in embeddings]) + \"\\n\")\n",
        "    \n",
        "out_v.close()\n",
        "out_m.close()"
      ],
      "execution_count": null,
      "outputs": []
    },
    {
      "cell_type": "code",
      "metadata": {
        "id": "j9rod_MCkMbs",
        "colab_type": "code",
        "colab": {}
      },
      "source": [
        "book_arr = np.array(b_id) #get all book IDs\n",
        "user = np.array([100 for i in range(len(b_id))])\n",
        "\n",
        "pred = model.predict([book_arr, user])\n",
        "pred"
      ],
      "execution_count": null,
      "outputs": []
    },
    {
      "cell_type": "code",
      "metadata": {
        "id": "SqDVAEnSx7wB",
        "colab_type": "code",
        "colab": {
          "base_uri": "https://localhost:8080/",
          "height": 34
        },
        "outputId": "3857843f-aaa2-4b13-e47d-418788934924"
      },
      "source": [
        "pred = pred.reshape(-1) #reshape to single dimension\n",
        "pred_ids = (-pred).argsort()[0:5]\n",
        "pred_ids"
      ],
      "execution_count": null,
      "outputs": [
        {
          "output_type": "execute_result",
          "data": {
            "text/plain": [
              "array([8047, 6989, 7324, 5707, 5847])"
            ]
          },
          "metadata": {
            "tags": []
          },
          "execution_count": 61
        }
      ]
    },
    {
      "cell_type": "code",
      "metadata": {
        "id": "WhQMwHC3ztzw",
        "colab_type": "code",
        "colab": {}
      },
      "source": [
        "book_db.iloc[pred_ids]"
      ],
      "execution_count": null,
      "outputs": []
    },
    {
      "cell_type": "code",
      "metadata": {
        "id": "uVdgm8SEzzQd",
        "colab_type": "code",
        "colab": {}
      },
      "source": [
        "web_book_data = book_db[[\"book_id\", \"title\", \"image_url\", \"authors\"]]\n",
        "web_book_data = web_book_data.sort_values('book_id')\n",
        "web_book_data.head()"
      ],
      "execution_count": null,
      "outputs": []
    },
    {
      "cell_type": "code",
      "metadata": {
        "id": "-nIkOgCJ0Cf5",
        "colab_type": "code",
        "colab": {}
      },
      "source": [
        "web_book_data.to_json(r'web_book_data.json', orient='records')"
      ],
      "execution_count": null,
      "outputs": []
    }
  ]
}