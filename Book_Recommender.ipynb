{
  "nbformat": 4,
  "nbformat_minor": 0,
  "metadata": {
    "colab": {
      "name": "Book Recommender.ipynb",
      "provenance": [],
      "toc_visible": true,
      "authorship_tag": "ABX9TyMbLsgNA+IjAGhfVMHg0xgC",
      "include_colab_link": true
    },
    "kernelspec": {
      "name": "python3",
      "display_name": "Python 3"
    }
  },
  "cells": [
    {
      "cell_type": "markdown",
      "metadata": {
        "id": "view-in-github",
        "colab_type": "text"
      },
      "source": [
        "<a href=\"https://colab.research.google.com/github/RezoanurRahman/Book_Recommender/blob/master/Book_Recommender.ipynb\" target=\"_parent\"><img src=\"https://colab.research.google.com/assets/colab-badge.svg\" alt=\"Open In Colab\"/></a>"
      ]
    },
    {
      "cell_type": "code",
      "metadata": {
        "id": "jfrir9F6DHP9",
        "colab_type": "code",
        "colab": {}
      },
      "source": [
        "import numpy as np\n",
        "import pandas as pd\n",
        "import matplotlib.pyplot as plt\n",
        "import os\n",
        "import warnings\n",
        "\n",
        "warnings.filterwarnings('ignore')\n",
        "%matplotlib inline\n",
        "\n",
        "import tensorflow.keras as tf\n",
        "\n"
      ],
      "execution_count": 2,
      "outputs": []
    },
    {
      "cell_type": "code",
      "metadata": {
        "id": "F2kIRwm8D-Oh",
        "colab_type": "code",
        "colab": {}
      },
      "source": [
        "book_db = pd.read_csv('books.csv')\n",
        "rating_db = pd.read_csv('ratings.csv')\n",
        "\n",
        "rating_db.head()\n",
        "book_db.head()"
      ],
      "execution_count": null,
      "outputs": []
    },
    {
      "cell_type": "code",
      "metadata": {
        "id": "WcGzOjBiET-X",
        "colab_type": "code",
        "colab": {}
      },
      "source": [
        "from sklearn.model_selection import train_test_split\n",
        "\n",
        "Xtrain, Xtest= train_test_split(rating_db, test_size= 0.2, random_state=1)\n"
      ],
      "execution_count": null,
      "outputs": []
    },
    {
      "cell_type": "code",
      "metadata": {
        "id": "YcYAZUAPG91w",
        "colab_type": "code",
        "colab": {}
      },
      "source": [
        "nbook_id = rating_db.book_id.nunique()\n",
        "nuser_id = rating_db.user_id.nunique()\n"
      ],
      "execution_count": 19,
      "outputs": []
    },
    {
      "cell_type": "code",
      "metadata": {
        "id": "qNZ_tfdJJL2o",
        "colab_type": "code",
        "colab": {}
      },
      "source": [
        "input_books= tf.layers.Input(shape= 1)\n",
        "input_embedbooks = tf.layers.Embedding(nbook_id+1, 15)(input_books)\n",
        "output_books = tf.layers.Flatten()(input_embedbooks)\n",
        "output_books.shape"
      ],
      "execution_count": null,
      "outputs": []
    },
    {
      "cell_type": "code",
      "metadata": {
        "id": "6bbzuGnLL8Dw",
        "colab_type": "code",
        "colab": {}
      },
      "source": [
        "input_users= tf.layers.Input(shape= 1)\n",
        "input_embedusers = tf.layers.Embedding(nuser_id+1, 15)(input_users)\n",
        "output_users = tf.layers.Flatten()(input_embedusers)\n",
        "output_users.shape"
      ],
      "execution_count": null,
      "outputs": []
    },
    {
      "cell_type": "code",
      "metadata": {
        "id": "zfo8rOf8MW4e",
        "colab_type": "code",
        "colab": {
          "base_uri": "https://localhost:8080/",
          "height": 646
        },
        "outputId": "52ac1b8c-f13c-4a3b-b7ed-a5f0a8f22982"
      },
      "source": [
        "mainembeddlayer = tf.layers.Concatenate()([output_users, output_books])\n",
        "seconddenselayer= tf.layers.Dense(128,activation= 'relu')(mainembeddlayer)\n",
        "finaldenselayer = tf.layers.Dense(1,activation='relu')(seconddenselayer)\n",
        "\n",
        "model = tf.Model([input_users, input_books], finaldenselayer)\n",
        "\n",
        "opt = tf.optimizers.Adam(learning_rate=0.001)\n",
        "model.compile(optimizer=opt, loss='mean_squared_error')\n",
        "model.summary()\n",
        "\n",
        "\n",
        "fitedmodel = model.fit([Xtrain.user_id,Xtrain.book_id], Xtrain.rating, \n",
        "                 batch_size=64, \n",
        "                 epochs=5, \n",
        "                 verbose=1,\n",
        "                 validation_data=([Xtest.user_id, Xtest.book_id], Xtest.rating))"
      ],
      "execution_count": 25,
      "outputs": [
        {
          "output_type": "stream",
          "text": [
            "Model: \"functional_3\"\n",
            "__________________________________________________________________________________________________\n",
            "Layer (type)                    Output Shape         Param #     Connected to                     \n",
            "==================================================================================================\n",
            "input_5 (InputLayer)            [(None, 1)]          0                                            \n",
            "__________________________________________________________________________________________________\n",
            "input_4 (InputLayer)            [(None, 1)]          0                                            \n",
            "__________________________________________________________________________________________________\n",
            "embedding_4 (Embedding)         (None, 1, 15)        801375      input_5[0][0]                    \n",
            "__________________________________________________________________________________________________\n",
            "embedding_3 (Embedding)         (None, 1, 15)        150015      input_4[0][0]                    \n",
            "__________________________________________________________________________________________________\n",
            "flatten_3 (Flatten)             (None, 15)           0           embedding_4[0][0]                \n",
            "__________________________________________________________________________________________________\n",
            "flatten_2 (Flatten)             (None, 15)           0           embedding_3[0][0]                \n",
            "__________________________________________________________________________________________________\n",
            "concatenate_2 (Concatenate)     (None, 30)           0           flatten_3[0][0]                  \n",
            "                                                                 flatten_2[0][0]                  \n",
            "__________________________________________________________________________________________________\n",
            "dense_2 (Dense)                 (None, 128)          3968        concatenate_2[0][0]              \n",
            "__________________________________________________________________________________________________\n",
            "dense_3 (Dense)                 (None, 1)            129         dense_2[0][0]                    \n",
            "==================================================================================================\n",
            "Total params: 955,487\n",
            "Trainable params: 955,487\n",
            "Non-trainable params: 0\n",
            "__________________________________________________________________________________________________\n",
            "Epoch 1/5\n",
            "12272/12272 [==============================] - 137s 11ms/step - loss: 0.8656 - val_loss: 0.7221\n",
            "Epoch 2/5\n",
            "12272/12272 [==============================] - 139s 11ms/step - loss: 0.6839 - val_loss: 0.6962\n",
            "Epoch 3/5\n",
            "12272/12272 [==============================] - 133s 11ms/step - loss: 0.6477 - val_loss: 0.6934\n",
            "Epoch 4/5\n",
            "12272/12272 [==============================] - 133s 11ms/step - loss: 0.6189 - val_loss: 0.7024\n",
            "Epoch 5/5\n",
            "12272/12272 [==============================] - 137s 11ms/step - loss: 0.5907 - val_loss: 0.7055\n"
          ],
          "name": "stdout"
        }
      ]
    },
    {
      "cell_type": "code",
      "metadata": {
        "id": "TW9oytwqVQAE",
        "colab_type": "code",
        "colab": {
          "base_uri": "https://localhost:8080/",
          "height": 281
        },
        "outputId": "f84e5f46-e8e7-4103-c9c2-e1c219848926"
      },
      "source": [
        "train_loss = fitedmodel.history['loss']\n",
        "val_loss = fitedmodel.history['val_loss']\n",
        "plt.plot(train_loss, color='r', label='Train Loss')\n",
        "plt.plot(val_loss, color='b', label='Validation Loss')\n",
        "plt.title(\"Train and Validation Loss Curve\")\n",
        "plt.legend()\n",
        "plt.show()"
      ],
      "execution_count": 26,
      "outputs": [
        {
          "output_type": "display_data",
          "data": {
            "image/png": "[encoded data removed]",
            "text/plain": [
              "<Figure size 432x288 with 1 Axes>"
            ]
          },
          "metadata": {
            "tags": [],
            "needs_background": "light"
          }
        }
      ]
    },
    {
      "cell_type": "code",
      "metadata": {
        "id": "Io-xIJETVatJ",
        "colab_type": "code",
        "colab": {
          "base_uri": "https://localhost:8080/",
          "height": 156
        },
        "outputId": "ef1bcdbe-d677-4a23-b3d9-7db779c5434f"
      },
      "source": [
        "#save the model\n",
        "model.save('model')"
      ],
      "execution_count": 27,
      "outputs": [
        {
          "output_type": "stream",
          "text": [
            "WARNING:tensorflow:From /usr/local/lib/python3.6/dist-packages/tensorflow/python/training/tracking/tracking.py:111: Model.state_updates (from tensorflow.python.keras.engine.training) is deprecated and will be removed in a future version.\n",
            "Instructions for updating:\n",
            "This property should not be used in TensorFlow 2.0, as updates are applied automatically.\n",
            "WARNING:tensorflow:From /usr/local/lib/python3.6/dist-packages/tensorflow/python/training/tracking/tracking.py:111: Layer.updates (from tensorflow.python.keras.engine.base_layer) is deprecated and will be removed in a future version.\n",
            "Instructions for updating:\n",
            "This property should not be used in TensorFlow 2.0, as updates are applied automatically.\n",
            "INFO:tensorflow:Assets written to: model/assets\n"
          ],
          "name": "stdout"
        }
      ]
    }
  ]
}